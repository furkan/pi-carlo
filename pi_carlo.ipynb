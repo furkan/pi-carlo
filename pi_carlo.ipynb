{
 "cells": [
  {
   "cell_type": "markdown",
   "metadata": {},
   "source": [
    "## Estimating pi with a random number generator"
   ]
  },
  {
   "cell_type": "markdown",
   "metadata": {},
   "source": [
    "Recently, a friend asked me if I knew about Monte Carlo and told me that the number PI can be estimated with random numbers.\n",
    "\n",
    "I then decided to see if I could do that without looking up the solution.\n",
    "\n",
    "Here it goes..."
   ]
  },
  {
   "cell_type": "markdown",
   "metadata": {},
   "source": [
    "### Import stuff"
   ]
  },
  {
   "cell_type": "code",
   "execution_count": null,
   "metadata": {},
   "outputs": [],
   "source": [
    "%pip install \"matplotlib<4\" \"numpy<2\"\n",
    "\n",
    "import numpy as np\n",
    "import matplotlib.pyplot as plt\n",
    "\n",
    "# Initialize random number generator\n",
    "rng = np.random.default_rng(seed=0)\n"
   ]
  },
  {
   "cell_type": "markdown",
   "metadata": {},
   "source": [
    "### Generate random points (x, y pairs) uniformly distributed in the unit square"
   ]
  },
  {
   "cell_type": "code",
   "execution_count": null,
   "metadata": {},
   "outputs": [],
   "source": [
    "number_of_pairs = 1_000\n",
    "\n",
    "# Generate both axes\n",
    "xy = rng.uniform(0, 1, number_of_pairs * 2)\n",
    "\n",
    "# Split into x and y\n",
    "x, y = np.array_split(xy, 2)\n"
   ]
  },
  {
   "cell_type": "code",
   "execution_count": null,
   "metadata": {},
   "outputs": [],
   "source": [
    "def show_scatter(x, y):\n",
    "    plt.scatter(x, y)\n",
    "    plt.show()\n",
    "\n",
    "show_scatter(x, y)\n"
   ]
  },
  {
   "cell_type": "markdown",
   "metadata": {},
   "source": [
    "## Remove points outside of the unit circle"
   ]
  },
  {
   "cell_type": "code",
   "execution_count": null,
   "metadata": {},
   "outputs": [],
   "source": [
    "mask = x**2 + y**2 <= 1\n",
    "x = x[mask]\n",
    "y = y[mask]\n",
    "\n",
    "show_scatter(x, y)\n"
   ]
  },
  {
   "cell_type": "markdown",
   "metadata": {},
   "source": [
    "## Map all points on the circle border"
   ]
  },
  {
   "cell_type": "code",
   "execution_count": null,
   "metadata": {},
   "outputs": [],
   "source": [
    "distances_from_origin = np.sqrt(x**2 + y**2)\n",
    "\n",
    "x = np.divide(x, distances_from_origin)\n",
    "y = np.divide(y, distances_from_origin)\n",
    "\n",
    "show_scatter(x, y)\n"
   ]
  },
  {
   "cell_type": "markdown",
   "metadata": {},
   "source": [
    "## Observe the distribution of x"
   ]
  },
  {
   "cell_type": "code",
   "execution_count": null,
   "metadata": {},
   "outputs": [],
   "source": [
    "def show_histogram(x, bins: int = 30):\n",
    "    plt.hist(x, bins=bins, edgecolor='black')\n",
    "    plt.show()\n",
    "\n",
    "show_histogram(x)\n"
   ]
  },
  {
   "cell_type": "markdown",
   "metadata": {},
   "source": [
    "As we get from x=0 to x=1, the circle border gets more perpendicular to the x axis, and the x values of the random numbers are more condensed."
   ]
  },
  {
   "cell_type": "markdown",
   "metadata": {},
   "source": [
    "## Get all the distances between x values"
   ]
  },
  {
   "cell_type": "code",
   "execution_count": null,
   "metadata": {},
   "outputs": [],
   "source": [
    "def get_counterpart(x_or_y):\n",
    "    \"\"\"\n",
    "    Given an x value between 0 and 1,\n",
    "    find the y value that maps that x value on the unit circle.\n",
    "    Works x->y and y->x\n",
    "    \"\"\"\n",
    "    return np.sqrt(np.ones(x_or_y.shape) - x_or_y**2)\n",
    "\n",
    "def get_euclidian_distances(x1, x2):\n",
    "    \"\"\"\n",
    "    Given two x matrices,\n",
    "    find the euclidian distance between their corresponding points on the unit circle.\n",
    "    It is an element-wise operation.\n",
    "    \"\"\"\n",
    "    y1 = get_counterpart(x1)\n",
    "    y2 = get_counterpart(x2)\n",
    "    return np.sqrt((x1 - x2)**2 + (y1 -y2)**2)\n",
    "\n",
    "x.sort()\n",
    "\n",
    "# Obtain each distance between neighboring points on the unit circle\n",
    "distances = get_euclidian_distances(x[:-1], x[1:])\n"
   ]
  },
  {
   "cell_type": "markdown",
   "metadata": {},
   "source": [
    "## Estime pi by summing the distances (obtaining the length of the quarter circle)"
   ]
  },
  {
   "cell_type": "code",
   "execution_count": null,
   "metadata": {},
   "outputs": [],
   "source": [
    "quarter_circle_circumference = np.sum(distances)\n",
    "\n",
    "# pi is half a complete circle\n",
    "pi = quarter_circle_circumference * 2\n",
    "\n",
    "print(pi)\n"
   ]
  },
  {
   "cell_type": "markdown",
   "metadata": {},
   "source": [
    "## Grid search various numbers of points on the circle to observe convergence"
   ]
  },
  {
   "cell_type": "code",
   "execution_count": null,
   "metadata": {},
   "outputs": [],
   "source": [
    "import math\n",
    "\n",
    "def estimate_pi(points_on_circle: int) -> float:\n",
    "    \"\"\"\n",
    "    Given an amount of number of random points, estimate pi.\n",
    "    \"\"\"\n",
    "\n",
    "    # Generate points\n",
    "    xy = rng.uniform(0, 1, points_on_circle * 2)\n",
    "    x, y = np.array_split(xy, 2)\n",
    "\n",
    "    # Remove points outside of circle\n",
    "    mask = x**2 + y**2 <= 1\n",
    "    x = x[mask]\n",
    "    y = y[mask]\n",
    "\n",
    "    # Carry x values to the circle border\n",
    "    distances_from_origin = np.sqrt(x**2 + y**2)\n",
    "    x = np.divide(x, distances_from_origin)\n",
    "\n",
    "    # Sum over the distances between points on circle\n",
    "    x.sort()\n",
    "    distances = get_euclidian_distances(x[:-1], x[1:])\n",
    "    return np.sum(distances) * 2\n",
    "\n",
    "\n",
    "def get_error(pi_estimation: float) -> float:\n",
    "    \"\"\"\n",
    "    Get the relative error of the pi estimation.\n",
    "    \"\"\"\n",
    "    return abs(pi_estimation - math.pi) / math.pi\n",
    "\n",
    "\n",
    "numbers_of_points_on_circle = [10_000, 100_000, 1_000_000, 10_000_000, 100_000_000]\n",
    "errors = []\n",
    "\n",
    "for number_of_points_on_circle in numbers_of_points_on_circle:\n",
    "    pi = estimate_pi(number_of_points_on_circle)\n",
    "    error = get_error(pi)\n",
    "    errors.append(error)\n",
    "    print(f\"{number_of_points_on_circle=:>15}, {error=:.10f}\")\n",
    "    "
   ]
  },
  {
   "cell_type": "code",
   "execution_count": null,
   "metadata": {},
   "outputs": [],
   "source": [
    "plt.plot(numbers_of_points_on_circle, errors)\n",
    "plt.xscale(\"log\")\n",
    "plt.xlabel('random points on circle')\n",
    "plt.ylabel('error in PI estimation')\n",
    "plt.show()\n"
   ]
  }
 ],
 "metadata": {
  "kernelspec": {
   "display_name": "Python 3 (ipykernel)",
   "language": "python",
   "name": "python3"
  },
  "language_info": {
   "codemirror_mode": {
    "name": "ipython",
    "version": 3
   },
   "file_extension": ".py",
   "mimetype": "text/x-python",
   "name": "python",
   "nbconvert_exporter": "python",
   "pygments_lexer": "ipython3",
   "version": "3.11.6"
  }
 },
 "nbformat": 4,
 "nbformat_minor": 2
}
